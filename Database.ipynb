{
 "cells": [
  {
   "cell_type": "code",
   "execution_count": 16,
   "metadata": {
    "collapsed": true
   },
   "outputs": [],
   "source": [
    "import pandas as pd\n",
    "import numpy as np\n",
    "import matplotlib.pyplot as plt\n",
    "%matplotlib inline\n",
    "import re\n"
   ]
  },
  {
   "cell_type": "code",
   "execution_count": 17,
   "outputs": [],
   "source": [
    "with open('spambase.names') as spam:\n",
    " text = spam.read()\n",
    "labels = re.findall(r'\\n(\\w*_?\\W?):', text)\n",
    "#labels.append('Class')\n",
    "spamData = pd.read_csv('spambase.data', header=None, names=labels +['spam'])\n",
    "# spam = spamData.pop('spam')"
   ],
   "metadata": {
    "collapsed": false
   }
  },
  {
   "cell_type": "code",
   "execution_count": 18,
   "outputs": [
    {
     "data": {
      "text/plain": "      word_freq_make  word_freq_address  word_freq_all  word_freq_3d  \\\n0               0.00               0.64           0.64           0.0   \n1               0.21               0.28           0.50           0.0   \n2               0.06               0.00           0.71           0.0   \n3               0.00               0.00           0.00           0.0   \n4               0.00               0.00           0.00           0.0   \n...              ...                ...            ...           ...   \n4596            0.31               0.00           0.62           0.0   \n4597            0.00               0.00           0.00           0.0   \n4598            0.30               0.00           0.30           0.0   \n4599            0.96               0.00           0.00           0.0   \n4600            0.00               0.00           0.65           0.0   \n\n      word_freq_our  word_freq_over  word_freq_remove  word_freq_internet  \\\n0              0.32            0.00              0.00                0.00   \n1              0.14            0.28              0.21                0.07   \n2              1.23            0.19              0.19                0.12   \n3              0.63            0.00              0.31                0.63   \n4              0.63            0.00              0.31                0.63   \n...             ...             ...               ...                 ...   \n4596           0.00            0.31              0.00                0.00   \n4597           0.00            0.00              0.00                0.00   \n4598           0.00            0.00              0.00                0.00   \n4599           0.32            0.00              0.00                0.00   \n4600           0.00            0.00              0.00                0.00   \n\n      word_freq_order  word_freq_mail  ...  char_freq_;  char_freq_(  \\\n0                0.00            0.00  ...        0.000        0.000   \n1                0.00            0.94  ...        0.000        0.132   \n2                0.64            0.25  ...        0.010        0.143   \n3                0.31            0.63  ...        0.000        0.137   \n4                0.31            0.63  ...        0.000        0.135   \n...               ...             ...  ...          ...          ...   \n4596             0.00            0.00  ...        0.000        0.232   \n4597             0.00            0.00  ...        0.000        0.000   \n4598             0.00            0.00  ...        0.102        0.718   \n4599             0.00            0.00  ...        0.000        0.057   \n4600             0.00            0.00  ...        0.000        0.000   \n\n      char_freq_[  char_freq_!  char_freq_$  char_freq_#  \\\n0             0.0        0.778        0.000        0.000   \n1             0.0        0.372        0.180        0.048   \n2             0.0        0.276        0.184        0.010   \n3             0.0        0.137        0.000        0.000   \n4             0.0        0.135        0.000        0.000   \n...           ...          ...          ...          ...   \n4596          0.0        0.000        0.000        0.000   \n4597          0.0        0.353        0.000        0.000   \n4598          0.0        0.000        0.000        0.000   \n4599          0.0        0.000        0.000        0.000   \n4600          0.0        0.125        0.000        0.000   \n\n      capital_run_length_average  capital_run_length_longest  \\\n0                          3.756                          61   \n1                          5.114                         101   \n2                          9.821                         485   \n3                          3.537                          40   \n4                          3.537                          40   \n...                          ...                         ...   \n4596                       1.142                           3   \n4597                       1.555                           4   \n4598                       1.404                           6   \n4599                       1.147                           5   \n4600                       1.250                           5   \n\n      capital_run_length_total  spam  \n0                          278     1  \n1                         1028     1  \n2                         2259     1  \n3                          191     1  \n4                          191     1  \n...                        ...   ...  \n4596                        88     0  \n4597                        14     0  \n4598                       118     0  \n4599                        78     0  \n4600                        40     0  \n\n[4601 rows x 58 columns]",
      "text/html": "<div>\n<style scoped>\n    .dataframe tbody tr th:only-of-type {\n        vertical-align: middle;\n    }\n\n    .dataframe tbody tr th {\n        vertical-align: top;\n    }\n\n    .dataframe thead th {\n        text-align: right;\n    }\n</style>\n<table border=\"1\" class=\"dataframe\">\n  <thead>\n    <tr style=\"text-align: right;\">\n      <th></th>\n      <th>word_freq_make</th>\n      <th>word_freq_address</th>\n      <th>word_freq_all</th>\n      <th>word_freq_3d</th>\n      <th>word_freq_our</th>\n      <th>word_freq_over</th>\n      <th>word_freq_remove</th>\n      <th>word_freq_internet</th>\n      <th>word_freq_order</th>\n      <th>word_freq_mail</th>\n      <th>...</th>\n      <th>char_freq_;</th>\n      <th>char_freq_(</th>\n      <th>char_freq_[</th>\n      <th>char_freq_!</th>\n      <th>char_freq_$</th>\n      <th>char_freq_#</th>\n      <th>capital_run_length_average</th>\n      <th>capital_run_length_longest</th>\n      <th>capital_run_length_total</th>\n      <th>spam</th>\n    </tr>\n  </thead>\n  <tbody>\n    <tr>\n      <th>0</th>\n      <td>0.00</td>\n      <td>0.64</td>\n      <td>0.64</td>\n      <td>0.0</td>\n      <td>0.32</td>\n      <td>0.00</td>\n      <td>0.00</td>\n      <td>0.00</td>\n      <td>0.00</td>\n      <td>0.00</td>\n      <td>...</td>\n      <td>0.000</td>\n      <td>0.000</td>\n      <td>0.0</td>\n      <td>0.778</td>\n      <td>0.000</td>\n      <td>0.000</td>\n      <td>3.756</td>\n      <td>61</td>\n      <td>278</td>\n      <td>1</td>\n    </tr>\n    <tr>\n      <th>1</th>\n      <td>0.21</td>\n      <td>0.28</td>\n      <td>0.50</td>\n      <td>0.0</td>\n      <td>0.14</td>\n      <td>0.28</td>\n      <td>0.21</td>\n      <td>0.07</td>\n      <td>0.00</td>\n      <td>0.94</td>\n      <td>...</td>\n      <td>0.000</td>\n      <td>0.132</td>\n      <td>0.0</td>\n      <td>0.372</td>\n      <td>0.180</td>\n      <td>0.048</td>\n      <td>5.114</td>\n      <td>101</td>\n      <td>1028</td>\n      <td>1</td>\n    </tr>\n    <tr>\n      <th>2</th>\n      <td>0.06</td>\n      <td>0.00</td>\n      <td>0.71</td>\n      <td>0.0</td>\n      <td>1.23</td>\n      <td>0.19</td>\n      <td>0.19</td>\n      <td>0.12</td>\n      <td>0.64</td>\n      <td>0.25</td>\n      <td>...</td>\n      <td>0.010</td>\n      <td>0.143</td>\n      <td>0.0</td>\n      <td>0.276</td>\n      <td>0.184</td>\n      <td>0.010</td>\n      <td>9.821</td>\n      <td>485</td>\n      <td>2259</td>\n      <td>1</td>\n    </tr>\n    <tr>\n      <th>3</th>\n      <td>0.00</td>\n      <td>0.00</td>\n      <td>0.00</td>\n      <td>0.0</td>\n      <td>0.63</td>\n      <td>0.00</td>\n      <td>0.31</td>\n      <td>0.63</td>\n      <td>0.31</td>\n      <td>0.63</td>\n      <td>...</td>\n      <td>0.000</td>\n      <td>0.137</td>\n      <td>0.0</td>\n      <td>0.137</td>\n      <td>0.000</td>\n      <td>0.000</td>\n      <td>3.537</td>\n      <td>40</td>\n      <td>191</td>\n      <td>1</td>\n    </tr>\n    <tr>\n      <th>4</th>\n      <td>0.00</td>\n      <td>0.00</td>\n      <td>0.00</td>\n      <td>0.0</td>\n      <td>0.63</td>\n      <td>0.00</td>\n      <td>0.31</td>\n      <td>0.63</td>\n      <td>0.31</td>\n      <td>0.63</td>\n      <td>...</td>\n      <td>0.000</td>\n      <td>0.135</td>\n      <td>0.0</td>\n      <td>0.135</td>\n      <td>0.000</td>\n      <td>0.000</td>\n      <td>3.537</td>\n      <td>40</td>\n      <td>191</td>\n      <td>1</td>\n    </tr>\n    <tr>\n      <th>...</th>\n      <td>...</td>\n      <td>...</td>\n      <td>...</td>\n      <td>...</td>\n      <td>...</td>\n      <td>...</td>\n      <td>...</td>\n      <td>...</td>\n      <td>...</td>\n      <td>...</td>\n      <td>...</td>\n      <td>...</td>\n      <td>...</td>\n      <td>...</td>\n      <td>...</td>\n      <td>...</td>\n      <td>...</td>\n      <td>...</td>\n      <td>...</td>\n      <td>...</td>\n      <td>...</td>\n    </tr>\n    <tr>\n      <th>4596</th>\n      <td>0.31</td>\n      <td>0.00</td>\n      <td>0.62</td>\n      <td>0.0</td>\n      <td>0.00</td>\n      <td>0.31</td>\n      <td>0.00</td>\n      <td>0.00</td>\n      <td>0.00</td>\n      <td>0.00</td>\n      <td>...</td>\n      <td>0.000</td>\n      <td>0.232</td>\n      <td>0.0</td>\n      <td>0.000</td>\n      <td>0.000</td>\n      <td>0.000</td>\n      <td>1.142</td>\n      <td>3</td>\n      <td>88</td>\n      <td>0</td>\n    </tr>\n    <tr>\n      <th>4597</th>\n      <td>0.00</td>\n      <td>0.00</td>\n      <td>0.00</td>\n      <td>0.0</td>\n      <td>0.00</td>\n      <td>0.00</td>\n      <td>0.00</td>\n      <td>0.00</td>\n      <td>0.00</td>\n      <td>0.00</td>\n      <td>...</td>\n      <td>0.000</td>\n      <td>0.000</td>\n      <td>0.0</td>\n      <td>0.353</td>\n      <td>0.000</td>\n      <td>0.000</td>\n      <td>1.555</td>\n      <td>4</td>\n      <td>14</td>\n      <td>0</td>\n    </tr>\n    <tr>\n      <th>4598</th>\n      <td>0.30</td>\n      <td>0.00</td>\n      <td>0.30</td>\n      <td>0.0</td>\n      <td>0.00</td>\n      <td>0.00</td>\n      <td>0.00</td>\n      <td>0.00</td>\n      <td>0.00</td>\n      <td>0.00</td>\n      <td>...</td>\n      <td>0.102</td>\n      <td>0.718</td>\n      <td>0.0</td>\n      <td>0.000</td>\n      <td>0.000</td>\n      <td>0.000</td>\n      <td>1.404</td>\n      <td>6</td>\n      <td>118</td>\n      <td>0</td>\n    </tr>\n    <tr>\n      <th>4599</th>\n      <td>0.96</td>\n      <td>0.00</td>\n      <td>0.00</td>\n      <td>0.0</td>\n      <td>0.32</td>\n      <td>0.00</td>\n      <td>0.00</td>\n      <td>0.00</td>\n      <td>0.00</td>\n      <td>0.00</td>\n      <td>...</td>\n      <td>0.000</td>\n      <td>0.057</td>\n      <td>0.0</td>\n      <td>0.000</td>\n      <td>0.000</td>\n      <td>0.000</td>\n      <td>1.147</td>\n      <td>5</td>\n      <td>78</td>\n      <td>0</td>\n    </tr>\n    <tr>\n      <th>4600</th>\n      <td>0.00</td>\n      <td>0.00</td>\n      <td>0.65</td>\n      <td>0.0</td>\n      <td>0.00</td>\n      <td>0.00</td>\n      <td>0.00</td>\n      <td>0.00</td>\n      <td>0.00</td>\n      <td>0.00</td>\n      <td>...</td>\n      <td>0.000</td>\n      <td>0.000</td>\n      <td>0.0</td>\n      <td>0.125</td>\n      <td>0.000</td>\n      <td>0.000</td>\n      <td>1.250</td>\n      <td>5</td>\n      <td>40</td>\n      <td>0</td>\n    </tr>\n  </tbody>\n</table>\n<p>4601 rows × 58 columns</p>\n</div>"
     },
     "execution_count": 18,
     "metadata": {},
     "output_type": "execute_result"
    }
   ],
   "source": [
    "spamData"
   ],
   "metadata": {
    "collapsed": false
   }
  },
  {
   "cell_type": "code",
   "execution_count": 19,
   "outputs": [],
   "source": [
    "from sklearn.preprocessing import StandardScaler\n",
    "scaler=StandardScaler()\n",
    "scaled_data=scaler.fit_transform(spamData)"
   ],
   "metadata": {
    "collapsed": false
   }
  },
  {
   "cell_type": "code",
   "execution_count": 20,
   "outputs": [],
   "source": [
    "df=pd.DataFrame(data=scaled_data, columns= spamData.columns)"
   ],
   "metadata": {
    "collapsed": false
   }
  },
  {
   "cell_type": "code",
   "execution_count": 21,
   "outputs": [
    {
     "data": {
      "text/plain": "       word_freq_make  word_freq_address  word_freq_all  word_freq_3d  \\\ncount    4.601000e+03       4.601000e+03   4.601000e+03  4.601000e+03   \nmean     4.844708e-15      -9.171827e-16  -4.647855e-15 -2.025297e-15   \nstd      1.000109e+00       1.000109e+00   1.000109e+00  1.000109e+00   \nmin     -3.424337e-01      -1.650719e-01  -5.567606e-01 -4.689958e-02   \n25%     -3.424337e-01      -1.650719e-01  -5.567606e-01 -4.689958e-02   \n50%     -3.424337e-01      -1.650719e-01  -5.567606e-01 -4.689958e-02   \n75%     -3.424337e-01      -1.650719e-01   2.764271e-01 -4.689958e-02   \nmax      1.452700e+01       1.090096e+01   9.560519e+00  3.064128e+01   \n\n       word_freq_our  word_freq_over  word_freq_remove  word_freq_internet  \\\ncount   4.601000e+03    4.601000e+03      4.601000e+03        4.601000e+03   \nmean    4.101503e-16    6.654727e-15     -1.007371e-14       -7.314056e-16   \nstd     1.000109e+00    1.000109e+00      1.000109e+00        1.000109e+00   \nmin    -4.643144e-01   -3.502662e-01     -2.917939e-01       -2.625616e-01   \n25%    -4.643144e-01   -3.502662e-01     -2.917939e-01       -2.625616e-01   \n50%    -4.643144e-01   -3.502662e-01     -2.917939e-01       -2.625616e-01   \n75%     1.007920e-01   -3.502662e-01     -2.917939e-01       -2.625616e-01   \nmax     1.440691e+01    2.112571e+01      1.828261e+01        2.744125e+01   \n\n       word_freq_order  word_freq_mail  ...   char_freq_;   char_freq_(  \\\ncount     4.601000e+03    4.601000e+03  ...  4.601000e+03  4.601000e+03   \nmean      5.750405e-15   -1.858689e-15  ...  5.026818e-15 -9.130806e-16   \nstd       1.000109e+00    1.000109e+00  ...  1.000109e+00  1.000109e+00   \nmin      -3.233024e-01   -3.713644e-01  ... -1.584534e-01 -5.143065e-01   \n25%      -3.233024e-01   -3.713644e-01  ... -1.584534e-01 -5.143065e-01   \n50%      -3.233024e-01   -3.713644e-01  ... -1.584534e-01 -2.738561e-01   \n75%      -3.233024e-01   -1.231813e-01  ... -1.584534e-01  1.811501e-01   \nmax       1.855779e+01    2.782844e+01  ...  1.785384e+01  3.556066e+01   \n\n        char_freq_[   char_freq_!   char_freq_$   char_freq_#  \\\ncount  4.601000e+03  4.601000e+03  4.601000e+03  4.601000e+03   \nmean   1.540703e-16 -5.408971e-15  1.190610e-14  2.507654e-16   \nstd    1.000109e+00  1.000109e+00  1.000109e+00  1.000109e+00   \nmin   -1.551977e-01 -3.299123e-01 -3.083549e-01 -1.030484e-01   \n25%   -1.551977e-01 -3.299123e-01 -3.083549e-01 -1.030484e-01   \n50%   -1.551977e-01 -3.299123e-01 -3.083549e-01 -1.030484e-01   \n75%   -1.551977e-01  5.631450e-02 -9.684841e-02 -1.030484e-01   \nmax    3.715432e+01  3.949191e+01  2.410845e+01  4.608659e+01   \n\n       capital_run_length_average  capital_run_length_longest  \\\ncount                4.601000e+03                4.601000e+03   \nmean                 5.297599e-16                1.560007e-16   \nstd                  1.000109e+00                1.000109e+00   \nmin                 -1.321161e-01               -2.625994e-01   \n25%                 -1.135824e-01               -2.369413e-01   \n50%                 -9.189671e-02               -1.907567e-01   \n75%                 -4.682327e-02               -4.707129e-02   \nmax                  3.458704e+01                5.099205e+01   \n\n       capital_run_length_total          spam  \ncount              4.601000e+03  4.601000e+03  \nmean               1.989160e-16  4.847966e-15  \nstd                1.000109e+00  1.000109e+00  \nmin               -4.656073e-01 -8.064037e-01  \n25%               -4.095278e-01 -8.064037e-01  \n50%               -3.105639e-01 -8.064037e-01  \n75%               -2.851691e-02  1.240074e+00  \nmax                2.566085e+01  1.240074e+00  \n\n[8 rows x 58 columns]",
      "text/html": "<div>\n<style scoped>\n    .dataframe tbody tr th:only-of-type {\n        vertical-align: middle;\n    }\n\n    .dataframe tbody tr th {\n        vertical-align: top;\n    }\n\n    .dataframe thead th {\n        text-align: right;\n    }\n</style>\n<table border=\"1\" class=\"dataframe\">\n  <thead>\n    <tr style=\"text-align: right;\">\n      <th></th>\n      <th>word_freq_make</th>\n      <th>word_freq_address</th>\n      <th>word_freq_all</th>\n      <th>word_freq_3d</th>\n      <th>word_freq_our</th>\n      <th>word_freq_over</th>\n      <th>word_freq_remove</th>\n      <th>word_freq_internet</th>\n      <th>word_freq_order</th>\n      <th>word_freq_mail</th>\n      <th>...</th>\n      <th>char_freq_;</th>\n      <th>char_freq_(</th>\n      <th>char_freq_[</th>\n      <th>char_freq_!</th>\n      <th>char_freq_$</th>\n      <th>char_freq_#</th>\n      <th>capital_run_length_average</th>\n      <th>capital_run_length_longest</th>\n      <th>capital_run_length_total</th>\n      <th>spam</th>\n    </tr>\n  </thead>\n  <tbody>\n    <tr>\n      <th>count</th>\n      <td>4.601000e+03</td>\n      <td>4.601000e+03</td>\n      <td>4.601000e+03</td>\n      <td>4.601000e+03</td>\n      <td>4.601000e+03</td>\n      <td>4.601000e+03</td>\n      <td>4.601000e+03</td>\n      <td>4.601000e+03</td>\n      <td>4.601000e+03</td>\n      <td>4.601000e+03</td>\n      <td>...</td>\n      <td>4.601000e+03</td>\n      <td>4.601000e+03</td>\n      <td>4.601000e+03</td>\n      <td>4.601000e+03</td>\n      <td>4.601000e+03</td>\n      <td>4.601000e+03</td>\n      <td>4.601000e+03</td>\n      <td>4.601000e+03</td>\n      <td>4.601000e+03</td>\n      <td>4.601000e+03</td>\n    </tr>\n    <tr>\n      <th>mean</th>\n      <td>4.844708e-15</td>\n      <td>-9.171827e-16</td>\n      <td>-4.647855e-15</td>\n      <td>-2.025297e-15</td>\n      <td>4.101503e-16</td>\n      <td>6.654727e-15</td>\n      <td>-1.007371e-14</td>\n      <td>-7.314056e-16</td>\n      <td>5.750405e-15</td>\n      <td>-1.858689e-15</td>\n      <td>...</td>\n      <td>5.026818e-15</td>\n      <td>-9.130806e-16</td>\n      <td>1.540703e-16</td>\n      <td>-5.408971e-15</td>\n      <td>1.190610e-14</td>\n      <td>2.507654e-16</td>\n      <td>5.297599e-16</td>\n      <td>1.560007e-16</td>\n      <td>1.989160e-16</td>\n      <td>4.847966e-15</td>\n    </tr>\n    <tr>\n      <th>std</th>\n      <td>1.000109e+00</td>\n      <td>1.000109e+00</td>\n      <td>1.000109e+00</td>\n      <td>1.000109e+00</td>\n      <td>1.000109e+00</td>\n      <td>1.000109e+00</td>\n      <td>1.000109e+00</td>\n      <td>1.000109e+00</td>\n      <td>1.000109e+00</td>\n      <td>1.000109e+00</td>\n      <td>...</td>\n      <td>1.000109e+00</td>\n      <td>1.000109e+00</td>\n      <td>1.000109e+00</td>\n      <td>1.000109e+00</td>\n      <td>1.000109e+00</td>\n      <td>1.000109e+00</td>\n      <td>1.000109e+00</td>\n      <td>1.000109e+00</td>\n      <td>1.000109e+00</td>\n      <td>1.000109e+00</td>\n    </tr>\n    <tr>\n      <th>min</th>\n      <td>-3.424337e-01</td>\n      <td>-1.650719e-01</td>\n      <td>-5.567606e-01</td>\n      <td>-4.689958e-02</td>\n      <td>-4.643144e-01</td>\n      <td>-3.502662e-01</td>\n      <td>-2.917939e-01</td>\n      <td>-2.625616e-01</td>\n      <td>-3.233024e-01</td>\n      <td>-3.713644e-01</td>\n      <td>...</td>\n      <td>-1.584534e-01</td>\n      <td>-5.143065e-01</td>\n      <td>-1.551977e-01</td>\n      <td>-3.299123e-01</td>\n      <td>-3.083549e-01</td>\n      <td>-1.030484e-01</td>\n      <td>-1.321161e-01</td>\n      <td>-2.625994e-01</td>\n      <td>-4.656073e-01</td>\n      <td>-8.064037e-01</td>\n    </tr>\n    <tr>\n      <th>25%</th>\n      <td>-3.424337e-01</td>\n      <td>-1.650719e-01</td>\n      <td>-5.567606e-01</td>\n      <td>-4.689958e-02</td>\n      <td>-4.643144e-01</td>\n      <td>-3.502662e-01</td>\n      <td>-2.917939e-01</td>\n      <td>-2.625616e-01</td>\n      <td>-3.233024e-01</td>\n      <td>-3.713644e-01</td>\n      <td>...</td>\n      <td>-1.584534e-01</td>\n      <td>-5.143065e-01</td>\n      <td>-1.551977e-01</td>\n      <td>-3.299123e-01</td>\n      <td>-3.083549e-01</td>\n      <td>-1.030484e-01</td>\n      <td>-1.135824e-01</td>\n      <td>-2.369413e-01</td>\n      <td>-4.095278e-01</td>\n      <td>-8.064037e-01</td>\n    </tr>\n    <tr>\n      <th>50%</th>\n      <td>-3.424337e-01</td>\n      <td>-1.650719e-01</td>\n      <td>-5.567606e-01</td>\n      <td>-4.689958e-02</td>\n      <td>-4.643144e-01</td>\n      <td>-3.502662e-01</td>\n      <td>-2.917939e-01</td>\n      <td>-2.625616e-01</td>\n      <td>-3.233024e-01</td>\n      <td>-3.713644e-01</td>\n      <td>...</td>\n      <td>-1.584534e-01</td>\n      <td>-2.738561e-01</td>\n      <td>-1.551977e-01</td>\n      <td>-3.299123e-01</td>\n      <td>-3.083549e-01</td>\n      <td>-1.030484e-01</td>\n      <td>-9.189671e-02</td>\n      <td>-1.907567e-01</td>\n      <td>-3.105639e-01</td>\n      <td>-8.064037e-01</td>\n    </tr>\n    <tr>\n      <th>75%</th>\n      <td>-3.424337e-01</td>\n      <td>-1.650719e-01</td>\n      <td>2.764271e-01</td>\n      <td>-4.689958e-02</td>\n      <td>1.007920e-01</td>\n      <td>-3.502662e-01</td>\n      <td>-2.917939e-01</td>\n      <td>-2.625616e-01</td>\n      <td>-3.233024e-01</td>\n      <td>-1.231813e-01</td>\n      <td>...</td>\n      <td>-1.584534e-01</td>\n      <td>1.811501e-01</td>\n      <td>-1.551977e-01</td>\n      <td>5.631450e-02</td>\n      <td>-9.684841e-02</td>\n      <td>-1.030484e-01</td>\n      <td>-4.682327e-02</td>\n      <td>-4.707129e-02</td>\n      <td>-2.851691e-02</td>\n      <td>1.240074e+00</td>\n    </tr>\n    <tr>\n      <th>max</th>\n      <td>1.452700e+01</td>\n      <td>1.090096e+01</td>\n      <td>9.560519e+00</td>\n      <td>3.064128e+01</td>\n      <td>1.440691e+01</td>\n      <td>2.112571e+01</td>\n      <td>1.828261e+01</td>\n      <td>2.744125e+01</td>\n      <td>1.855779e+01</td>\n      <td>2.782844e+01</td>\n      <td>...</td>\n      <td>1.785384e+01</td>\n      <td>3.556066e+01</td>\n      <td>3.715432e+01</td>\n      <td>3.949191e+01</td>\n      <td>2.410845e+01</td>\n      <td>4.608659e+01</td>\n      <td>3.458704e+01</td>\n      <td>5.099205e+01</td>\n      <td>2.566085e+01</td>\n      <td>1.240074e+00</td>\n    </tr>\n  </tbody>\n</table>\n<p>8 rows × 58 columns</p>\n</div>"
     },
     "execution_count": 21,
     "metadata": {},
     "output_type": "execute_result"
    }
   ],
   "source": [
    "df.describe()"
   ],
   "metadata": {
    "collapsed": false
   }
  },
  {
   "cell_type": "code",
   "execution_count": 22,
   "outputs": [],
   "source": [
    "spamData.to_csv('spamData.csv', index=False)"
   ],
   "metadata": {
    "collapsed": false
   }
  }
 ],
 "metadata": {
  "kernelspec": {
   "display_name": "Python 3",
   "language": "python",
   "name": "python3"
  },
  "language_info": {
   "codemirror_mode": {
    "name": "ipython",
    "version": 2
   },
   "file_extension": ".py",
   "mimetype": "text/x-python",
   "name": "python",
   "nbconvert_exporter": "python",
   "pygments_lexer": "ipython2",
   "version": "2.7.6"
  }
 },
 "nbformat": 4,
 "nbformat_minor": 0
}
