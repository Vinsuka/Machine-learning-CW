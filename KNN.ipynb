{
 "cells": [
  {
   "cell_type": "code",
   "execution_count": 95,
   "metadata": {
    "collapsed": true
   },
   "outputs": [],
   "source": [
    "import pandas as pd\n",
    "import seaborn as sns\n",
    "%matplotlib inline"
   ]
  },
  {
   "cell_type": "code",
   "execution_count": 96,
   "outputs": [
    {
     "data": {
      "text/plain": "       word_freq_make  word_freq_address  word_freq_all  word_freq_3d  \\\ncount     4202.000000        4202.000000    4202.000000   4202.000000   \nmean         0.104329           0.112799       0.291678      0.063189   \nstd          0.300191           0.454667       0.516139      1.353771   \nmin          0.000000           0.000000       0.000000      0.000000   \n25%          0.000000           0.000000       0.000000      0.000000   \n50%          0.000000           0.000000       0.000000      0.000000   \n75%          0.000000           0.000000       0.440000      0.000000   \nmax          4.540000          14.280000       5.100000     42.810000   \n\n       word_freq_our  word_freq_over  word_freq_remove  word_freq_internet  \\\ncount    4202.000000     4202.000000       4202.000000         4202.000000   \nmean        0.325800        0.096644          0.117694            0.108051   \nstd         0.688366        0.276262          0.397630            0.410627   \nmin         0.000000        0.000000          0.000000            0.000000   \n25%         0.000000        0.000000          0.000000            0.000000   \n50%         0.000000        0.000000          0.000000            0.000000   \n75%         0.410000        0.000000          0.000000            0.000000   \nmax        10.000000        5.880000          7.270000           11.110000   \n\n       word_freq_order  word_freq_mail  ...  char_freq_;  char_freq_(  \\\ncount      4202.000000     4202.000000  ...  4202.000000  4202.000000   \nmean          0.091875        0.248475  ...     0.039951     0.141838   \nstd           0.282348        0.657083  ...     0.251767     0.231006   \nmin           0.000000        0.000000  ...     0.000000     0.000000   \n25%           0.000000        0.000000  ...     0.000000     0.000000   \n50%           0.000000        0.000000  ...     0.000000     0.073000   \n75%           0.000000        0.190000  ...     0.000000     0.194000   \nmax           5.260000       18.180000  ...     4.385000     5.277000   \n\n       char_freq_[  char_freq_!  char_freq_$  char_freq_#  \\\ncount  4202.000000  4202.000000  4202.000000  4202.000000   \nmean      0.017363     0.281121     0.075604     0.045371   \nstd       0.105815     0.843850     0.238373     0.435294   \nmin       0.000000     0.000000     0.000000     0.000000   \n25%       0.000000     0.000000     0.000000     0.000000   \n50%       0.000000     0.016000     0.000000     0.000000   \n75%       0.000000     0.331000     0.053000     0.000000   \nmax       4.081000    32.478000     6.003000    19.829000   \n\n       capital_run_length_average  capital_run_length_longest  \\\ncount                 4202.000000                 4202.000000   \nmean                     5.322680                   49.378391   \nstd                     32.980361                  126.713928   \nmin                      1.000000                    1.000000   \n25%                      1.625250                    7.000000   \n50%                      2.294000                   15.000000   \n75%                      3.703500                   44.000000   \nmax                   1102.500000                 2204.000000   \n\n       capital_run_length_total         spam  \ncount               4202.000000  4202.000000  \nmean                 275.394336     0.398144  \nstd                  479.736935     0.489574  \nmin                    1.000000     0.000000  \n25%                   39.000000     0.000000  \n50%                  101.000000     0.000000  \n75%                  271.750000     1.000000  \nmax                 3752.000000     1.000000  \n\n[8 rows x 58 columns]",
      "text/html": "<div>\n<style scoped>\n    .dataframe tbody tr th:only-of-type {\n        vertical-align: middle;\n    }\n\n    .dataframe tbody tr th {\n        vertical-align: top;\n    }\n\n    .dataframe thead th {\n        text-align: right;\n    }\n</style>\n<table border=\"1\" class=\"dataframe\">\n  <thead>\n    <tr style=\"text-align: right;\">\n      <th></th>\n      <th>word_freq_make</th>\n      <th>word_freq_address</th>\n      <th>word_freq_all</th>\n      <th>word_freq_3d</th>\n      <th>word_freq_our</th>\n      <th>word_freq_over</th>\n      <th>word_freq_remove</th>\n      <th>word_freq_internet</th>\n      <th>word_freq_order</th>\n      <th>word_freq_mail</th>\n      <th>...</th>\n      <th>char_freq_;</th>\n      <th>char_freq_(</th>\n      <th>char_freq_[</th>\n      <th>char_freq_!</th>\n      <th>char_freq_$</th>\n      <th>char_freq_#</th>\n      <th>capital_run_length_average</th>\n      <th>capital_run_length_longest</th>\n      <th>capital_run_length_total</th>\n      <th>spam</th>\n    </tr>\n  </thead>\n  <tbody>\n    <tr>\n      <th>count</th>\n      <td>4202.000000</td>\n      <td>4202.000000</td>\n      <td>4202.000000</td>\n      <td>4202.000000</td>\n      <td>4202.000000</td>\n      <td>4202.000000</td>\n      <td>4202.000000</td>\n      <td>4202.000000</td>\n      <td>4202.000000</td>\n      <td>4202.000000</td>\n      <td>...</td>\n      <td>4202.000000</td>\n      <td>4202.000000</td>\n      <td>4202.000000</td>\n      <td>4202.000000</td>\n      <td>4202.000000</td>\n      <td>4202.000000</td>\n      <td>4202.000000</td>\n      <td>4202.000000</td>\n      <td>4202.000000</td>\n      <td>4202.000000</td>\n    </tr>\n    <tr>\n      <th>mean</th>\n      <td>0.104329</td>\n      <td>0.112799</td>\n      <td>0.291678</td>\n      <td>0.063189</td>\n      <td>0.325800</td>\n      <td>0.096644</td>\n      <td>0.117694</td>\n      <td>0.108051</td>\n      <td>0.091875</td>\n      <td>0.248475</td>\n      <td>...</td>\n      <td>0.039951</td>\n      <td>0.141838</td>\n      <td>0.017363</td>\n      <td>0.281121</td>\n      <td>0.075604</td>\n      <td>0.045371</td>\n      <td>5.322680</td>\n      <td>49.378391</td>\n      <td>275.394336</td>\n      <td>0.398144</td>\n    </tr>\n    <tr>\n      <th>std</th>\n      <td>0.300191</td>\n      <td>0.454667</td>\n      <td>0.516139</td>\n      <td>1.353771</td>\n      <td>0.688366</td>\n      <td>0.276262</td>\n      <td>0.397630</td>\n      <td>0.410627</td>\n      <td>0.282348</td>\n      <td>0.657083</td>\n      <td>...</td>\n      <td>0.251767</td>\n      <td>0.231006</td>\n      <td>0.105815</td>\n      <td>0.843850</td>\n      <td>0.238373</td>\n      <td>0.435294</td>\n      <td>32.980361</td>\n      <td>126.713928</td>\n      <td>479.736935</td>\n      <td>0.489574</td>\n    </tr>\n    <tr>\n      <th>min</th>\n      <td>0.000000</td>\n      <td>0.000000</td>\n      <td>0.000000</td>\n      <td>0.000000</td>\n      <td>0.000000</td>\n      <td>0.000000</td>\n      <td>0.000000</td>\n      <td>0.000000</td>\n      <td>0.000000</td>\n      <td>0.000000</td>\n      <td>...</td>\n      <td>0.000000</td>\n      <td>0.000000</td>\n      <td>0.000000</td>\n      <td>0.000000</td>\n      <td>0.000000</td>\n      <td>0.000000</td>\n      <td>1.000000</td>\n      <td>1.000000</td>\n      <td>1.000000</td>\n      <td>0.000000</td>\n    </tr>\n    <tr>\n      <th>25%</th>\n      <td>0.000000</td>\n      <td>0.000000</td>\n      <td>0.000000</td>\n      <td>0.000000</td>\n      <td>0.000000</td>\n      <td>0.000000</td>\n      <td>0.000000</td>\n      <td>0.000000</td>\n      <td>0.000000</td>\n      <td>0.000000</td>\n      <td>...</td>\n      <td>0.000000</td>\n      <td>0.000000</td>\n      <td>0.000000</td>\n      <td>0.000000</td>\n      <td>0.000000</td>\n      <td>0.000000</td>\n      <td>1.625250</td>\n      <td>7.000000</td>\n      <td>39.000000</td>\n      <td>0.000000</td>\n    </tr>\n    <tr>\n      <th>50%</th>\n      <td>0.000000</td>\n      <td>0.000000</td>\n      <td>0.000000</td>\n      <td>0.000000</td>\n      <td>0.000000</td>\n      <td>0.000000</td>\n      <td>0.000000</td>\n      <td>0.000000</td>\n      <td>0.000000</td>\n      <td>0.000000</td>\n      <td>...</td>\n      <td>0.000000</td>\n      <td>0.073000</td>\n      <td>0.000000</td>\n      <td>0.016000</td>\n      <td>0.000000</td>\n      <td>0.000000</td>\n      <td>2.294000</td>\n      <td>15.000000</td>\n      <td>101.000000</td>\n      <td>0.000000</td>\n    </tr>\n    <tr>\n      <th>75%</th>\n      <td>0.000000</td>\n      <td>0.000000</td>\n      <td>0.440000</td>\n      <td>0.000000</td>\n      <td>0.410000</td>\n      <td>0.000000</td>\n      <td>0.000000</td>\n      <td>0.000000</td>\n      <td>0.000000</td>\n      <td>0.190000</td>\n      <td>...</td>\n      <td>0.000000</td>\n      <td>0.194000</td>\n      <td>0.000000</td>\n      <td>0.331000</td>\n      <td>0.053000</td>\n      <td>0.000000</td>\n      <td>3.703500</td>\n      <td>44.000000</td>\n      <td>271.750000</td>\n      <td>1.000000</td>\n    </tr>\n    <tr>\n      <th>max</th>\n      <td>4.540000</td>\n      <td>14.280000</td>\n      <td>5.100000</td>\n      <td>42.810000</td>\n      <td>10.000000</td>\n      <td>5.880000</td>\n      <td>7.270000</td>\n      <td>11.110000</td>\n      <td>5.260000</td>\n      <td>18.180000</td>\n      <td>...</td>\n      <td>4.385000</td>\n      <td>5.277000</td>\n      <td>4.081000</td>\n      <td>32.478000</td>\n      <td>6.003000</td>\n      <td>19.829000</td>\n      <td>1102.500000</td>\n      <td>2204.000000</td>\n      <td>3752.000000</td>\n      <td>1.000000</td>\n    </tr>\n  </tbody>\n</table>\n<p>8 rows × 58 columns</p>\n</div>"
     },
     "execution_count": 96,
     "metadata": {},
     "output_type": "execute_result"
    }
   ],
   "source": [
    "# Load dataset and show summary\n",
    "\n",
    "dataSet = pd.read_csv('spamDataset.csv')\n",
    "dataSet.describe()"
   ],
   "metadata": {
    "collapsed": false
   }
  },
  {
   "cell_type": "markdown",
   "source": [
    "KNN MODEL"
   ],
   "metadata": {
    "collapsed": false
   }
  },
  {
   "cell_type": "code",
   "execution_count": 97,
   "outputs": [
    {
     "data": {
      "text/plain": "   word_freq_make  word_freq_address  word_freq_all  word_freq_3d  \\\n0            0.00               0.64           0.64           0.0   \n1            0.21               0.28           0.50           0.0   \n2            0.06               0.00           0.71           0.0   \n3            0.00               0.00           0.00           0.0   \n4            0.00               0.00           0.00           0.0   \n\n   word_freq_our  word_freq_over  word_freq_remove  word_freq_internet  \\\n0           0.32            0.00              0.00                0.00   \n1           0.14            0.28              0.21                0.07   \n2           1.23            0.19              0.19                0.12   \n3           0.63            0.00              0.31                0.63   \n4           0.63            0.00              0.31                0.63   \n\n   word_freq_order  word_freq_mail  ...  word_freq_conference  char_freq_;  \\\n0             0.00            0.00  ...                   0.0         0.00   \n1             0.00            0.94  ...                   0.0         0.00   \n2             0.64            0.25  ...                   0.0         0.01   \n3             0.31            0.63  ...                   0.0         0.00   \n4             0.31            0.63  ...                   0.0         0.00   \n\n   char_freq_(  char_freq_[  char_freq_!  char_freq_$  char_freq_#  \\\n0        0.000          0.0        0.778        0.000        0.000   \n1        0.132          0.0        0.372        0.180        0.048   \n2        0.143          0.0        0.276        0.184        0.010   \n3        0.137          0.0        0.137        0.000        0.000   \n4        0.135          0.0        0.135        0.000        0.000   \n\n   capital_run_length_average  capital_run_length_longest  \\\n0                       3.756                          61   \n1                       5.114                         101   \n2                       9.821                         485   \n3                       3.537                          40   \n4                       3.537                          40   \n\n   capital_run_length_total  \n0                       278  \n1                      1028  \n2                      2259  \n3                       191  \n4                       191  \n\n[5 rows x 57 columns]",
      "text/html": "<div>\n<style scoped>\n    .dataframe tbody tr th:only-of-type {\n        vertical-align: middle;\n    }\n\n    .dataframe tbody tr th {\n        vertical-align: top;\n    }\n\n    .dataframe thead th {\n        text-align: right;\n    }\n</style>\n<table border=\"1\" class=\"dataframe\">\n  <thead>\n    <tr style=\"text-align: right;\">\n      <th></th>\n      <th>word_freq_make</th>\n      <th>word_freq_address</th>\n      <th>word_freq_all</th>\n      <th>word_freq_3d</th>\n      <th>word_freq_our</th>\n      <th>word_freq_over</th>\n      <th>word_freq_remove</th>\n      <th>word_freq_internet</th>\n      <th>word_freq_order</th>\n      <th>word_freq_mail</th>\n      <th>...</th>\n      <th>word_freq_conference</th>\n      <th>char_freq_;</th>\n      <th>char_freq_(</th>\n      <th>char_freq_[</th>\n      <th>char_freq_!</th>\n      <th>char_freq_$</th>\n      <th>char_freq_#</th>\n      <th>capital_run_length_average</th>\n      <th>capital_run_length_longest</th>\n      <th>capital_run_length_total</th>\n    </tr>\n  </thead>\n  <tbody>\n    <tr>\n      <th>0</th>\n      <td>0.00</td>\n      <td>0.64</td>\n      <td>0.64</td>\n      <td>0.0</td>\n      <td>0.32</td>\n      <td>0.00</td>\n      <td>0.00</td>\n      <td>0.00</td>\n      <td>0.00</td>\n      <td>0.00</td>\n      <td>...</td>\n      <td>0.0</td>\n      <td>0.00</td>\n      <td>0.000</td>\n      <td>0.0</td>\n      <td>0.778</td>\n      <td>0.000</td>\n      <td>0.000</td>\n      <td>3.756</td>\n      <td>61</td>\n      <td>278</td>\n    </tr>\n    <tr>\n      <th>1</th>\n      <td>0.21</td>\n      <td>0.28</td>\n      <td>0.50</td>\n      <td>0.0</td>\n      <td>0.14</td>\n      <td>0.28</td>\n      <td>0.21</td>\n      <td>0.07</td>\n      <td>0.00</td>\n      <td>0.94</td>\n      <td>...</td>\n      <td>0.0</td>\n      <td>0.00</td>\n      <td>0.132</td>\n      <td>0.0</td>\n      <td>0.372</td>\n      <td>0.180</td>\n      <td>0.048</td>\n      <td>5.114</td>\n      <td>101</td>\n      <td>1028</td>\n    </tr>\n    <tr>\n      <th>2</th>\n      <td>0.06</td>\n      <td>0.00</td>\n      <td>0.71</td>\n      <td>0.0</td>\n      <td>1.23</td>\n      <td>0.19</td>\n      <td>0.19</td>\n      <td>0.12</td>\n      <td>0.64</td>\n      <td>0.25</td>\n      <td>...</td>\n      <td>0.0</td>\n      <td>0.01</td>\n      <td>0.143</td>\n      <td>0.0</td>\n      <td>0.276</td>\n      <td>0.184</td>\n      <td>0.010</td>\n      <td>9.821</td>\n      <td>485</td>\n      <td>2259</td>\n    </tr>\n    <tr>\n      <th>3</th>\n      <td>0.00</td>\n      <td>0.00</td>\n      <td>0.00</td>\n      <td>0.0</td>\n      <td>0.63</td>\n      <td>0.00</td>\n      <td>0.31</td>\n      <td>0.63</td>\n      <td>0.31</td>\n      <td>0.63</td>\n      <td>...</td>\n      <td>0.0</td>\n      <td>0.00</td>\n      <td>0.137</td>\n      <td>0.0</td>\n      <td>0.137</td>\n      <td>0.000</td>\n      <td>0.000</td>\n      <td>3.537</td>\n      <td>40</td>\n      <td>191</td>\n    </tr>\n    <tr>\n      <th>4</th>\n      <td>0.00</td>\n      <td>0.00</td>\n      <td>0.00</td>\n      <td>0.0</td>\n      <td>0.63</td>\n      <td>0.00</td>\n      <td>0.31</td>\n      <td>0.63</td>\n      <td>0.31</td>\n      <td>0.63</td>\n      <td>...</td>\n      <td>0.0</td>\n      <td>0.00</td>\n      <td>0.135</td>\n      <td>0.0</td>\n      <td>0.135</td>\n      <td>0.000</td>\n      <td>0.000</td>\n      <td>3.537</td>\n      <td>40</td>\n      <td>191</td>\n    </tr>\n  </tbody>\n</table>\n<p>5 rows × 57 columns</p>\n</div>"
     },
     "execution_count": 97,
     "metadata": {},
     "output_type": "execute_result"
    }
   ],
   "source": [
    "# Split features and target variable\n",
    "\n",
    "X = dataSet.iloc[:,0:57]\n",
    "X.head()"
   ],
   "metadata": {
    "collapsed": false
   }
  },
  {
   "cell_type": "code",
   "execution_count": 98,
   "outputs": [
    {
     "data": {
      "text/plain": "0    1\n1    1\n2    1\n3    1\n4    1\nName: spam, dtype: int64"
     },
     "execution_count": 98,
     "metadata": {},
     "output_type": "execute_result"
    }
   ],
   "source": [
    "y = dataSet.iloc[:, -1]\n",
    "y.head()"
   ],
   "metadata": {
    "collapsed": false
   }
  },
  {
   "cell_type": "code",
   "execution_count": 99,
   "outputs": [],
   "source": [
    "# Apply StandardScaler\n",
    "\n",
    "from sklearn.preprocessing import StandardScaler\n",
    "scaler = StandardScaler()"
   ],
   "metadata": {
    "collapsed": false
   }
  },
  {
   "cell_type": "code",
   "execution_count": 100,
   "outputs": [
    {
     "data": {
      "text/plain": "array([[-3.47583077e-01,  1.15967179e+00,  6.74942169e-01,\n        -4.66817919e-02, -8.42620199e-03, -3.49870479e-01,\n        -2.96023880e-01, -2.63168004e-01, -3.25435783e-01,\n        -3.78192844e-01, -3.07377727e-01,  8.38420890e-02,\n        -3.15477414e-01, -1.76533973e-01, -1.84998051e-01,\n         8.25304648e-02, -3.25871334e-01,  2.03307367e+00,\n         1.18593781e-01, -1.68212826e-01,  1.29616193e-01,\n        -1.21972061e-01, -2.85908569e-01, -2.10423943e-01,\n        -3.42773936e-01, -3.08821921e-01, -2.08552542e-01,\n        -2.40404288e-01, -1.70754281e-01, -2.36358394e-01,\n        -1.64262705e-01, -1.49513446e-01, -1.79968386e-01,\n        -1.51727686e-01, -2.03674412e-01, -2.57300927e-01,\n        -3.38394947e-01, -6.16248362e-02, -1.87794353e-01,\n        -1.91970202e-01, -1.30041904e-01, -1.78504327e-01,\n        -2.10574708e-01, -1.32103408e-01, -3.06374403e-01,\n        -2.04031550e-01, -7.30743472e-02, -1.16463593e-01,\n        -1.58701502e-01, -6.14076182e-01, -1.64106436e-01,\n         5.88894355e-01, -3.17204491e-01, -1.04242569e-01,\n        -4.75090797e-02,  9.17262377e-02,  5.43208973e-03],\n       [ 3.52054823e-01,  3.67788654e-01,  4.03664897e-01,\n        -4.66817919e-02, -2.69946191e-01,  6.63780372e-01,\n         2.32168198e-01, -9.26765459e-02, -3.25435783e-01,\n         1.05254239e+00,  8.32174639e-01,  2.53720155e-01,\n         1.78475770e+00,  4.30240104e-01,  3.92628686e-01,\n        -1.42993371e-01, -1.73026911e-01,  1.68033041e-01,\n         9.89060806e-01, -1.68212826e-01,  6.77481056e-01,\n        -1.21972061e-01,  9.38283373e-01,  7.84959480e-01,\n        -3.42773936e-01, -3.08821921e-01, -2.08552542e-01,\n        -2.40404288e-01, -1.70754281e-01, -2.36358394e-01,\n        -1.64262705e-01, -1.49513446e-01, -1.79968386e-01,\n        -1.51727686e-01, -2.03674412e-01, -2.57300927e-01,\n        -1.73617458e-01, -6.16248362e-02, -1.87794353e-01,\n        -1.91970202e-01, -1.30041904e-01, -1.78504327e-01,\n        -2.10574708e-01, -1.32103408e-01, -3.06374403e-01,\n        -2.04031550e-01, -7.30743472e-02, -1.16463593e-01,\n        -1.58701502e-01, -4.25935218e-02, -1.64106436e-01,\n         1.07708679e-01,  4.38004358e-01,  6.04082864e-03,\n        -6.32815956e-03,  4.07435499e-01,  1.56897495e+00],\n       [-1.47686534e-01, -2.48120451e-01,  8.10580805e-01,\n        -4.66817919e-02,  1.31370263e+00,  3.37964027e-01,\n         1.81864190e-01,  2.91030669e-02,  1.94153811e+00,\n         2.32184594e-03,  1.75466941e+00, -1.31336794e-01,\n         7.22582996e-02, -1.76533973e-01,  7.03533617e+00,\n        -2.43226186e-01, -1.94861829e-01,  1.55296420e+00,\n        -2.03592066e-01,  4.64209080e-01, -2.61715852e-01,\n        -1.21972061e-01,  3.01656272e+00, -7.15332331e-02,\n        -3.42773936e-01, -3.08821921e-01, -2.08552542e-01,\n        -2.40404288e-01, -1.70754281e-01, -2.36358394e-01,\n        -1.64262705e-01, -1.49513446e-01, -1.79968386e-01,\n        -1.51727686e-01, -2.03674412e-01, -2.57300927e-01,\n        -3.38394947e-01, -6.16248362e-02, -1.87794353e-01,\n        -4.33877215e-03, -1.30041904e-01, -1.78504327e-01,\n         3.06545005e-01, -1.32103408e-01, -2.49051552e-01,\n        -1.39446023e-01, -7.30743472e-02, -1.16463593e-01,\n        -1.18977440e-01,  5.03003323e-03, -1.64106436e-01,\n        -6.06921485e-03,  4.54786777e-01, -8.12668609e-02,\n         1.36410125e-01,  3.43824440e+00,  4.13526996e+00],\n       [-3.47583077e-01, -2.48120451e-01, -5.65182503e-01,\n        -4.66817919e-02,  4.41969335e-01, -3.49870479e-01,\n         4.83688234e-01,  1.27125512e+00,  7.72629698e-01,\n         5.80704175e-01,  1.37481862e+00, -2.89889656e-01,\n         6.86173179e-01, -1.76533973e-01, -1.84998051e-01,\n         7.00013629e-02, -3.25871334e-01, -3.49007926e-01,\n         8.25141691e-01, -1.68212826e-01, -4.35641205e-01,\n        -1.21972061e-01, -2.85908569e-01, -2.10423943e-01,\n        -3.42773936e-01, -3.08821921e-01, -2.08552542e-01,\n        -2.40404288e-01, -1.70754281e-01, -2.36358394e-01,\n        -1.64262705e-01, -1.49513446e-01, -1.79968386e-01,\n        -1.51727686e-01, -2.03674412e-01, -2.57300927e-01,\n        -3.38394947e-01, -6.16248362e-02, -1.87794353e-01,\n        -1.91970202e-01, -1.30041904e-01, -1.78504327e-01,\n        -2.10574708e-01, -1.32103408e-01, -3.06374403e-01,\n        -2.04031550e-01, -7.30743472e-02, -1.16463593e-01,\n        -1.58701502e-01, -2.09464513e-02, -1.64106436e-01,\n        -1.70810124e-01, -3.17204491e-01, -1.04242569e-01,\n        -5.41501854e-02, -7.40211242e-02, -1.75938882e-01],\n       [-3.47583077e-01, -2.48120451e-01, -5.65182503e-01,\n        -4.66817919e-02,  4.41969335e-01, -3.49870479e-01,\n         4.83688234e-01,  1.27125512e+00,  7.72629698e-01,\n         5.80704175e-01,  1.37481862e+00, -2.89889656e-01,\n         6.86173179e-01, -1.76533973e-01, -1.84998051e-01,\n         7.00013629e-02, -3.25871334e-01, -3.49007926e-01,\n         8.25141691e-01, -1.68212826e-01, -4.35641205e-01,\n        -1.21972061e-01, -2.85908569e-01, -2.10423943e-01,\n        -3.42773936e-01, -3.08821921e-01, -2.08552542e-01,\n        -2.40404288e-01, -1.70754281e-01, -2.36358394e-01,\n        -1.64262705e-01, -1.49513446e-01, -1.79968386e-01,\n        -1.51727686e-01, -2.03674412e-01, -2.57300927e-01,\n        -3.38394947e-01, -6.16248362e-02, -1.87794353e-01,\n        -1.91970202e-01, -1.30041904e-01, -1.78504327e-01,\n        -2.10574708e-01, -1.32103408e-01, -3.06374403e-01,\n        -2.04031550e-01, -7.30743472e-02, -1.16463593e-01,\n        -1.58701502e-01, -2.96052795e-02, -1.64106436e-01,\n        -1.73180496e-01, -3.17204491e-01, -1.04242569e-01,\n        -5.41501854e-02, -7.40211242e-02, -1.75938882e-01]])"
     },
     "execution_count": 100,
     "metadata": {},
     "output_type": "execute_result"
    }
   ],
   "source": [
    "X = scaler.fit_transform(X)\n",
    "X[0:5]"
   ],
   "metadata": {
    "collapsed": false
   }
  },
  {
   "cell_type": "code",
   "execution_count": 101,
   "outputs": [],
   "source": [
    "from sklearn.model_selection import train_test_split\n",
    "X_train, X_test, y_train, y_test = train_test_split(X,y,test_size=0.2)"
   ],
   "metadata": {
    "collapsed": false
   }
  },
  {
   "cell_type": "code",
   "execution_count": 102,
   "outputs": [
    {
     "name": "stdout",
     "output_type": "stream",
     "text": [
      "X_train shape: (3361, 57)\n",
      "X_test shape: (841, 57)\n",
      "y_train shape: (3361,)\n",
      "y_test shape: (841,)\n"
     ]
    }
   ],
   "source": [
    "# Print the shapes of the train and test sets\n",
    "print(\"X_train shape:\", X_train.shape)\n",
    "print(\"X_test shape:\", X_test.shape)\n",
    "print(\"y_train shape:\", y_train.shape)\n",
    "print(\"y_test shape:\", y_test.shape)"
   ],
   "metadata": {
    "collapsed": false
   }
  },
  {
   "cell_type": "code",
   "execution_count": 103,
   "outputs": [
    {
     "data": {
      "text/plain": "KNeighborsClassifier()"
     },
     "execution_count": 103,
     "metadata": {},
     "output_type": "execute_result"
    }
   ],
   "source": [
    "# Train a K-Nearest Neighbors classifier with k=5\n",
    "\n",
    "from sklearn.neighbors import KNeighborsClassifier\n",
    "model = KNeighborsClassifier(n_neighbors=5)\n",
    "model.fit(X_train,y_train)"
   ],
   "metadata": {
    "collapsed": false
   }
  },
  {
   "cell_type": "code",
   "execution_count": 104,
   "outputs": [
    {
     "name": "stderr",
     "output_type": "stream",
     "text": [
      "C:\\Users\\dvins\\anaconda3\\lib\\site-packages\\sklearn\\neighbors\\_classification.py:228: FutureWarning: Unlike other reduction functions (e.g. `skew`, `kurtosis`), the default behavior of `mode` typically preserves the axis it acts along. In SciPy 1.11.0, this behavior will change: the default value of `keepdims` will become False, the `axis` over which the statistic is taken will be eliminated, and the value None will no longer be accepted. Set `keepdims` to True or False to avoid this warning.\n",
      "  mode, _ = stats.mode(_y[neigh_ind, k], axis=1)\n"
     ]
    },
    {
     "data": {
      "text/plain": "array([1, 0, 0, 0, 0], dtype=int64)"
     },
     "execution_count": 104,
     "metadata": {},
     "output_type": "execute_result"
    }
   ],
   "source": [
    "# Make predictions on the test set\n",
    "\n",
    "pred = model.predict(X_test)\n",
    "pred [0:5]"
   ],
   "metadata": {
    "collapsed": false
   }
  },
  {
   "cell_type": "code",
   "execution_count": 105,
   "outputs": [
    {
     "data": {
      "text/plain": "615     1\n2447    0\n3810    0\n2899    0\n1800    0\nName: spam, dtype: int64"
     },
     "execution_count": 105,
     "metadata": {},
     "output_type": "execute_result"
    }
   ],
   "source": [
    "# Show the actual labels for the first 5 examples in the test set\n",
    "y_test[0:5]"
   ],
   "metadata": {
    "collapsed": false
   }
  },
  {
   "cell_type": "code",
   "execution_count": 106,
   "outputs": [
    {
     "data": {
      "text/plain": "0.906064209274673"
     },
     "execution_count": 106,
     "metadata": {},
     "output_type": "execute_result"
    }
   ],
   "source": [
    "# Calculate the accuracy\n",
    "from sklearn.metrics import accuracy_score\n",
    "accuracy = accuracy_score(y_test,pred)\n",
    "accuracy"
   ],
   "metadata": {
    "collapsed": false
   }
  },
  {
   "cell_type": "code",
   "execution_count": 107,
   "outputs": [
    {
     "data": {
      "text/plain": "array([[484,  35],\n       [ 44, 278]], dtype=int64)"
     },
     "execution_count": 107,
     "metadata": {},
     "output_type": "execute_result"
    }
   ],
   "source": [
    "from sklearn.metrics import confusion_matrix\n",
    "cm = confusion_matrix(y_test,pred)\n",
    "cm"
   ],
   "metadata": {
    "collapsed": false
   }
  },
  {
   "cell_type": "code",
   "execution_count": 108,
   "outputs": [
    {
     "data": {
      "text/plain": "<AxesSubplot:>"
     },
     "execution_count": 108,
     "metadata": {},
     "output_type": "execute_result"
    },
    {
     "data": {
      "text/plain": "<Figure size 640x480 with 2 Axes>",
      "image/png": "[encoded data removed]"
     },
     "metadata": {},
     "output_type": "display_data"
    }
   ],
   "source": [
    "#Generate Confusion Matrix\n",
    "\n",
    "from sklearn.metrics import confusion_matrix\n",
    "\n",
    "# Calculate the confusion matrix\n",
    "cm = confusion_matrix(y_test, pred)\n",
    "\n",
    "# Plot the heatmap\n",
    "sns.heatmap(cm, annot=True, cmap='Blues')"
   ],
   "metadata": {
    "collapsed": false
   }
  },
  {
   "cell_type": "code",
   "execution_count": 109,
   "outputs": [
    {
     "name": "stdout",
     "output_type": "stream",
     "text": [
      "              precision    recall  f1-score   support\n",
      "\n",
      "           0       0.92      0.93      0.92       519\n",
      "           1       0.89      0.86      0.88       322\n",
      "\n",
      "    accuracy                           0.91       841\n",
      "   macro avg       0.90      0.90      0.90       841\n",
      "weighted avg       0.91      0.91      0.91       841\n",
      "\n"
     ]
    }
   ],
   "source": [
    "#Generate Classification Report\n",
    "\n",
    "from sklearn.metrics import classification_report\n",
    "\n",
    "# Print classification report\n",
    "print(classification_report(y_test, pred))"
   ],
   "metadata": {
    "collapsed": false
   }
  },
  {
   "cell_type": "code",
   "execution_count": 94,
   "outputs": [],
   "source": [],
   "metadata": {
    "collapsed": false
   }
  }
 ],
 "metadata": {
  "kernelspec": {
   "display_name": "Python 3",
   "language": "python",
   "name": "python3"
  },
  "language_info": {
   "codemirror_mode": {
    "name": "ipython",
    "version": 2
   },
   "file_extension": ".py",
   "mimetype": "text/x-python",
   "name": "python",
   "nbconvert_exporter": "python",
   "pygments_lexer": "ipython2",
   "version": "2.7.6"
  }
 },
 "nbformat": 4,
 "nbformat_minor": 0
}
